{
 "cells": [
  {
   "attachments": {},
   "cell_type": "markdown",
   "metadata": {},
   "source": [
    "\n",
    "\n",
    "The following assignment consists of:\n",
    "1. Implementation of elementary row operations : Scaling, Replacement, Interchange\n",
    "2. Using the defined functions to find the answer of a system\n",
    "3. Calculation of the determinant\n",
    "4. EXTRA - Plotting the answer\n"
   ]
  },
  {
   "attachments": {},
   "cell_type": "markdown",
   "metadata": {},
   "source": [
    "### 0. Libraries"
   ]
  },
  {
   "cell_type": "code",
   "execution_count": 63,
   "metadata": {
    "is_executing": true
   },
   "outputs": [],
   "source": [
    "import time\n",
    "import matplotlib.pyplot as plt\n",
    "import numpy as np\n"
   ]
  },
  {
   "attachments": {},
   "cell_type": "markdown",
   "metadata": {},
   "source": [
    "## 1. Implementation of elementary row operations\n",
    "Implement these operations from scratch, for they will be used for upcoming sections\n"
   ]
  },
  {
   "attachments": {},
   "cell_type": "markdown",
   "metadata": {},
   "source": [
    "### 1.1. Scaling"
   ]
  },
  {
   "cell_type": "markdown",
   "metadata": {},
   "source": []
  },
  {
   "cell_type": "code",
   "execution_count": 64,
   "metadata": {},
   "outputs": [],
   "source": [
    "def op_scale(A, R, C):\n",
    "    #CHNAGE THIS PART\n",
    "    \"\"\" Multiply the R-th row of the matrix A by C, and return the new matrix \"\"\"\n",
    "    scaled_A = np.copy(A)\n",
    "    scaled_A[R-1] *= C\n",
    "    return scaled_A "
   ]
  },
  {
   "cell_type": "code",
   "execution_count": 65,
   "metadata": {
    "collapsed": false,
    "is_executing": true
   },
   "outputs": [
    {
     "name": "stdout",
     "output_type": "stream",
     "text": [
      "[[10  3  2  1]\n",
      " [ 3  0 12  6]\n",
      " [ 7  5 -1  9]\n",
      " [-6 -7  8 -4]]\n"
     ]
    },
    {
     "data": {
      "text/plain": [
       "'\\n Expected_output = [[10, 3, 2, 1],\\n                    [ 3, 0,12, 6],\\n                    [ 7, 5,-1, 9],\\n                    [-6,-7, 8,-4]]\\n'"
      ]
     },
     "execution_count": 65,
     "metadata": {},
     "output_type": "execute_result"
    }
   ],
   "source": [
    "#e.g.\n",
    "# DO NOT CHANGE THIS CELL\n",
    "A = np.array([[10, 3, 2, 1],\n",
    "               [ 1, 0, 4, 2],\n",
    "               [ 7, 5,-1, 9],\n",
    "               [-6,-7, 8,-4]])\n",
    "A = op_scale(A, 2, 3)\n",
    "print(A)\n",
    "\n",
    " \n",
    "\"\"\"\n",
    " Expected_output = [[10, 3, 2, 1],\n",
    "                    [ 3, 0,12, 6],\n",
    "                    [ 7, 5,-1, 9],\n",
    "                    [-6,-7, 8,-4]]\n",
    "\"\"\"\n"
   ]
  },
  {
   "attachments": {},
   "cell_type": "markdown",
   "metadata": {},
   "source": [
    "### 1.2. Interchange"
   ]
  },
  {
   "cell_type": "code",
   "execution_count": 66,
   "metadata": {},
   "outputs": [],
   "source": [
    "def op_interchange(A, R1, R2):\n",
    "    #CHNAGE THIS PART\n",
    "    \"\"\" Replace R1-th and R2-th rows in the matrix A, and return the new matrix \"\"\"\n",
    "    interchanged_A = np.copy(A)\n",
    "    interchanged_A[R1-1] = A[R2-1]\n",
    "    interchanged_A[R2-1] = A[R1-1]\n",
    "    return interchanged_A\n",
    "    "
   ]
  },
  {
   "cell_type": "code",
   "execution_count": 67,
   "metadata": {
    "collapsed": false
   },
   "outputs": [
    {
     "name": "stdout",
     "output_type": "stream",
     "text": [
      "[[10  3  2  1]\n",
      " [ 3  0 12  6]\n",
      " [-6 -7  8 -4]\n",
      " [ 7  5 -1  9]]\n"
     ]
    },
    {
     "data": {
      "text/plain": [
       "'\\nExpected_output = [[10, 3, 2, 1],\\n                    [ 3, 0,12, 6],\\n                    [-6,-7, 8,-4],\\n                    [ 7, 5,-1, 9]]\\n'"
      ]
     },
     "execution_count": 67,
     "metadata": {},
     "output_type": "execute_result"
    }
   ],
   "source": [
    "# e.g.\n",
    "# DO NOT CHANGE THIS CELL\n",
    "A = op_interchange(A, 3, 4)\n",
    "print(A)\n",
    "\"\"\"\n",
    "Expected_output = [[10, 3, 2, 1],\n",
    "                    [ 3, 0,12, 6],\n",
    "                    [-6,-7, 8,-4],\n",
    "                    [ 7, 5,-1, 9]]\n",
    "\"\"\""
   ]
  },
  {
   "attachments": {},
   "cell_type": "markdown",
   "metadata": {},
   "source": [
    "### 1.3. Replace"
   ]
  },
  {
   "cell_type": "code",
   "execution_count": 68,
   "metadata": {},
   "outputs": [],
   "source": [
    "def op_replace(A, R1, R2 , C):\n",
    "    #CHNAGE THIS PART\n",
    "    \"\"\" Replace the R2-th row with (R2 + C*R1), and return the new matrix \"\"\"\n",
    "    replaced_A = A.astype(float)\n",
    "    replaced_A[R2-1,] += C*replaced_A[R1-1,]\n",
    "    return replaced_A"
   ]
  },
  {
   "cell_type": "code",
   "execution_count": 69,
   "metadata": {
    "collapsed": false
   },
   "outputs": [
    {
     "name": "stdout",
     "output_type": "stream",
     "text": [
      "[[22.  3. 50. 25.]\n",
      " [ 3.  0. 12.  6.]\n",
      " [-6. -7.  8. -4.]\n",
      " [ 7.  5. -1.  9.]]\n"
     ]
    },
    {
     "data": {
      "text/plain": [
       "'\\nExpected_output = [[22, 3,50,25],\\n                   [ 3, 0,12, 6],\\n                   [-6,-7, 8,-4],\\n                   [ 7, 5,-1, 9]]\\n'"
      ]
     },
     "execution_count": 69,
     "metadata": {},
     "output_type": "execute_result"
    }
   ],
   "source": [
    "# e.g.\n",
    "# DO NOT CHANGE THIS CELL\n",
    "A = op_replace(A, 2, 1, 4)\n",
    "print(A)\n",
    "\"\"\"\n",
    "Expected_output = [[22, 3,50,25],\n",
    "                   [ 3, 0,12, 6],\n",
    "                   [-6,-7, 8,-4],\n",
    "                   [ 7, 5,-1, 9]]\n",
    "\"\"\"\n"
   ]
  },
  {
   "attachments": {},
   "cell_type": "markdown",
   "metadata": {},
   "source": [
    "## 2. Solving a system of linear equations\n",
    "In this part, you are required to use the functions defined in the previous part to find the solution to a linear system of equations.\n"
   ]
  },
  {
   "attachments": {},
   "cell_type": "markdown",
   "metadata": {},
   "source": [
    "### 2.1. Row Echelon Form"
   ]
  },
  {
   "cell_type": "markdown",
   "metadata": {},
   "source": []
  },
  {
   "cell_type": "code",
   "execution_count": 70,
   "metadata": {},
   "outputs": [],
   "source": [
    "def zeroation(A, row, column, n): #to make an echelon matrix we should make all entries bellow pivots 0\n",
    "    i = row + 1\n",
    "    A = A.astype(float)\n",
    "    while i < n :\n",
    "        if A[i, column] != 0:\n",
    "            x = A[i,column] / A[row, column]\n",
    "            A = op_replace(A,row+1,i+1,-x)\n",
    "            A[i,column] = 0\n",
    "            #print (A)\n",
    "        i += 1\n",
    "    return A\n",
    "\n",
    "def row_echelon(A):\n",
    "    #CHNAGE THIS PART\n",
    "    \"\"\" Define an algorithm to find the row-echelon form of the input matrix, row-echelon form of a matrix is not unique, so any true row-echelon form is acceptable.\"\"\"\n",
    "    nrows = len(A)\n",
    "    ncols = len(A[0])\n",
    "    pivot_list = []\n",
    "    cnt=0\n",
    "    lead = 0\n",
    "    for r in range(nrows):\n",
    "        if lead >= ncols:\n",
    "            return pivot_list,A,cnt\n",
    "        i = r\n",
    "        while A[i, lead] == 0:\n",
    "            i += 1\n",
    "            if i == nrows:\n",
    "                i = r\n",
    "                lead += 1\n",
    "                if lead == ncols:\n",
    "                    return pivot_list,A,cnt\n",
    "        A = op_interchange(A,r+1,i+1)\n",
    "        cnt+=1\n",
    "        A=zeroation(A,i,r,nrows)\n",
    "        pivot_list.append((r,lead))\n",
    "        lead += 1\n",
    "    #print(pivot_list)\n",
    "    #print(A)    \n",
    "    return pivot_list,A,cnt\n"
   ]
  },
  {
   "cell_type": "code",
   "execution_count": null,
   "metadata": {},
   "outputs": [],
   "source": []
  },
  {
   "cell_type": "code",
   "execution_count": 71,
   "metadata": {
    "collapsed": false
   },
   "outputs": [
    {
     "name": "stdout",
     "output_type": "stream",
     "text": [
      "([(0, 0), (1, 1)], array([[  1.,   2.,   3.,   4.],\n",
      "       [  0.,  -4.,  -8., -12.],\n",
      "       [  0.,   0.,   0.,   0.]]), 2)\n"
     ]
    },
    {
     "data": {
      "text/plain": [
       "'\"\\nNotice that any true row-echelon form is acceptable. An example is given below:\\n([[ 1, 2, 3, 4],\\n  [ 0,-4,-8,-12],\\n  [ 0, 0, 0, 0]])\\n'"
      ]
     },
     "execution_count": 71,
     "metadata": {},
     "output_type": "execute_result"
    }
   ],
   "source": [
    "#e.g.\n",
    "# DO NOT CHANGE THIS CELL\n",
    "B = np.array([[ 1, 2, 3, 4],\n",
    "              [ 5, 6, 7, 8],\n",
    "              [ 9,10,11,12]])\n",
    "print(row_echelon(B))\n",
    "\n",
    "\"\"\"\"\n",
    "Notice that any true row-echelon form is acceptable. An example is given below:\n",
    "([[ 1, 2, 3, 4],\n",
    "  [ 0,-4,-8,-12],\n",
    "  [ 0, 0, 0, 0]])\n",
    "\"\"\"\n"
   ]
  },
  {
   "attachments": {},
   "cell_type": "markdown",
   "metadata": {},
   "source": [
    "### 2.2. Reduce Row Echelon Form"
   ]
  },
  {
   "cell_type": "code",
   "execution_count": 72,
   "metadata": {},
   "outputs": [],
   "source": [
    "def up_zeroation(A, row, column, n): #to make a reduced form echelon we shold make the pivots 1 and all upper entries 0\n",
    "    i = row - 1\n",
    "    A = A.astype(float)\n",
    "    while i >= 0:\n",
    "         if A[i, column] != 0:\n",
    "            x = A[i,column] / A[row, column]\n",
    "            A = op_replace(A,row+1,i+1,-x)\n",
    "            A[i,column] = 0\n",
    "         i -= 1\n",
    "    A[row,] /= A[row,column]\n",
    "    #print(A)\n",
    "    return A\n",
    "\n",
    "\n",
    "def reduce(A):\n",
    "    #CHNAGE THIS PART\n",
    "    \"\"\" Define an algorithm to find the reduced-row-echelon form of the input matrix \n",
    "        ATTENTION : Assume  the input matrix is already in row-echelon form!\"\"\"\n",
    "    pivot_list = []\n",
    "    nrows = len(A)\n",
    "    pivot_list , B , cnt= row_echelon(A)\n",
    "    #print(pivot_list)\n",
    "    for pivot in pivot_list :\n",
    "        A=up_zeroation(A,pivot[0],pivot[1],nrows)\n",
    "    return A    \n",
    "\n",
    "    \n",
    "    "
   ]
  },
  {
   "cell_type": "code",
   "execution_count": 73,
   "metadata": {
    "collapsed": false
   },
   "outputs": [
    {
     "name": "stdout",
     "output_type": "stream",
     "text": [
      "[[ 1.  0. -1. -2.]\n",
      " [-0.  1.  2.  3.]\n",
      " [ 0.  0.  0.  0.]]\n"
     ]
    },
    {
     "data": {
      "text/plain": [
       "'\\nExpected_output = [[ 1, 0,-1,-2],\\n                   [ 0, 1, 2, 3],\\n                   [ 0, 0, 0, 0]]\\n'"
      ]
     },
     "execution_count": 73,
     "metadata": {},
     "output_type": "execute_result"
    }
   ],
   "source": [
    "# e.g.\n",
    "# DO NOT CHANGE THIS CELL\n",
    "B = np.array([[ 1, 2, 3, 4],\n",
    "              [ 0,-4,-8,-12],\n",
    "              [ 0, 0, 0, 0]])\n",
    "print(reduce(B))\n",
    "\"\"\"\n",
    "Expected_output = [[ 1, 0,-1,-2],\n",
    "                   [ 0, 1, 2, 3],\n",
    "                   [ 0, 0, 0, 0]]\n",
    "\"\"\""
   ]
  },
  {
   "attachments": {},
   "cell_type": "markdown",
   "metadata": {},
   "source": [
    "### 2.3. Existence of the Solution\n",
    "Based on the reduced form of the augmented matrix and prior to finding the answer, make sure the solution exists!"
   ]
  },
  {
   "cell_type": "code",
   "execution_count": 74,
   "metadata": {},
   "outputs": [],
   "source": [
    "def is_consistent(A):\n",
    "    #CHNAGE THIS PART\n",
    "    \"\"\" Make sure the system has a solution or not (check if it has a row like : 00...0b)\"\"\"\n",
    "    nrows = len(A)\n",
    "    ncols = len(A[0])\n",
    "    b = A[nrows-1,ncols-1]\n",
    "    for entry in A[nrows-1][:-1]: #check  if all entries in the last row except the laast onr are 0 or not\n",
    "        if entry !=0 and b!=0:\n",
    "            return False        \n",
    "\n",
    "    return True        \n"
   ]
  },
  {
   "cell_type": "code",
   "execution_count": 75,
   "metadata": {
    "collapsed": false
   },
   "outputs": [
    {
     "name": "stdout",
     "output_type": "stream",
     "text": [
      "True\n"
     ]
    },
    {
     "data": {
      "text/plain": [
       "'\\nexpected_output: true\\n'"
      ]
     },
     "execution_count": 75,
     "metadata": {},
     "output_type": "execute_result"
    }
   ],
   "source": [
    "#e.g.\n",
    "# DO NOT CHANGE THIS CELL\n",
    "C=is_consistent(B)\n",
    "print(C)\n",
    "\"\"\"\n",
    "expected_output: true\n",
    "\"\"\""
   ]
  },
  {
   "attachments": {},
   "cell_type": "markdown",
   "metadata": {},
   "source": [
    "### 2.4. Uniqueness of the Solution\n",
    "Based on prior information, make sure whether the solution is unique or not!"
   ]
  },
  {
   "cell_type": "code",
   "execution_count": 76,
   "metadata": {
    "is_executing": true
   },
   "outputs": [],
   "source": [
    "def is_unique(A):\n",
    "    #CHNAGE THIS PART\n",
    "    \"\"\" Address the uniqueness of solution (num of pivots == num of cols-1)\"\"\"\n",
    "    pivot_list = []\n",
    "    nrows = len(A)\n",
    "    ncols = len(A[0])\n",
    "    pivot_list , B , cnt = row_echelon(A)\n",
    "    if ncols-1 != len(pivot_list) :\n",
    "        return False\n",
    "    for i in range(ncols-1):\n",
    "        if i not in pivot_list[1]:\n",
    "            return False\n",
    "    return True\n",
    "    "
   ]
  },
  {
   "cell_type": "code",
   "execution_count": 77,
   "metadata": {
    "collapsed": false
   },
   "outputs": [
    {
     "name": "stdout",
     "output_type": "stream",
     "text": [
      "False\n"
     ]
    },
    {
     "data": {
      "text/plain": [
       "'\\nexpected_output: false\\n'"
      ]
     },
     "execution_count": 77,
     "metadata": {},
     "output_type": "execute_result"
    }
   ],
   "source": [
    "#e.g.\n",
    "# DO NOT CHANGE THIS CELL\n",
    "C=is_unique(B)\n",
    "print(C)\n",
    "\"\"\"\n",
    "expected_output: false\n",
    "\"\"\""
   ]
  },
  {
   "attachments": {},
   "cell_type": "markdown",
   "metadata": {},
   "source": [
    "### 2.5. Finding (just a) Solution\n",
    "If the system has a solution, find and return it.\n",
    "If the system has infinite solutions, return only one solution and double-check it with the original system defintion."
   ]
  },
  {
   "cell_type": "code",
   "execution_count": 79,
   "metadata": {},
   "outputs": [
    {
     "name": "stdout",
     "output_type": "stream",
     "text": [
      "x[1] : -2.0\n",
      "x[2] : 3.0\n",
      "x[3] : 0\n",
      "[-2.0, 3.0, 0] True\n"
     ]
    }
   ],
   "source": [
    "def double_check(solution,Aug):\n",
    "    nrows , ncols = Aug.shape\n",
    "    dot_prdct = np.dot(Aug[:, :-1],solution)\n",
    "    return np.allclose(dot_prdct,Aug[:, -1])\n",
    "\n",
    "def solve(A):\n",
    "    #CHNAGE THIS PART\n",
    "    \"\"\" Find the solution, A is the augmented matrix \"\"\"\n",
    "    pivot_list , A ,cnt= row_echelon(A)\n",
    "    A=reduce(A)\n",
    "    if is_consistent(A) == False :\n",
    "        return\n",
    "    nrows = len(A)\n",
    "    ncols = len(A[0])\n",
    "    solution = [0] * (ncols-1)\n",
    "    pivot_col = [pivot[1] for pivot in pivot_list]\n",
    "    for i in range(ncols-1):\n",
    "        if i not in pivot_col :\n",
    "            solution[i] = 0 #free var\n",
    "    \n",
    "    for i,pivot_col in pivot_list:\n",
    "        solution[pivot_col] = A[i][-1]\n",
    "        for j in range(pivot_col):\n",
    "            solution[pivot_col] -= A[i,j] * solution[j]\n",
    "\n",
    "    for i in range (len(solution)):\n",
    "        print(f\"x[{i+1}] : {solution[i]}\")\n",
    "            \n",
    "    return solution,double_check(solution,A)       \n",
    "\n",
    "\n",
    "\n",
    "B = np.array([[ 1, 2, 3, 4],\n",
    "              [ 5, 6, 7, 8],\n",
    "              [ 9,10,11,12]])\n",
    "B,flag = solve(B)\n",
    "print(B,flag)\n",
    "#print(double_check(solve(B),B))\n"
   ]
  },
  {
   "attachments": {},
   "cell_type": "markdown",
   "metadata": {},
   "source": [
    "## 3. Determinant\n",
    "In this section, you are requiered to find the determinant of a matrix in two different ways and compare them in the sense of computation complexity.\n"
   ]
  },
  {
   "attachments": {},
   "cell_type": "markdown",
   "metadata": {},
   "source": [
    "### 3.1. Recursive algorithm\n",
    "Implement a recursive algorithm to compute the determinant of a N*N matrix, using expansion with respect to a column or a row.\n"
   ]
  },
  {
   "cell_type": "code",
   "execution_count": null,
   "metadata": {},
   "outputs": [],
   "source": [
    "def cofactor(A,i,j):\n",
    "    C = np.delete(np.delete(A,i,axis=0),j,axis=1)\n",
    "    sign=(-1)**(i+j)\n",
    "    #print(C)\n",
    "    return sign*det_recursive(C)\n",
    "\n",
    "def det_recursive(A):\n",
    "    #CHNAGE THIS PART\n",
    "    \"\"\" Find the determinant of the matrix A, make sure it is a square matrix and raise an error otherwise \"\"\"\n",
    "    nrows = len(A)\n",
    "    ncols = len(A[0])\n",
    "    A = np.array(A)\n",
    "    det = 0\n",
    "    if nrows!= ncols :\n",
    "        return False\n",
    "    if nrows == 1 :\n",
    "        return A[0,0]\n",
    "    if nrows == 2 :\n",
    "        return A[0,0]*A[1,1] - A[1,0]*A[0,1]\n",
    "    for i in range(ncols):\n",
    "        det += A[0,i]*cofactor(A,0,i)\n",
    "    return det    \n",
    "    \n",
    "\n",
    "    "
   ]
  },
  {
   "cell_type": "code",
   "execution_count": null,
   "metadata": {
    "collapsed": false
   },
   "outputs": [
    {
     "name": "stdout",
     "output_type": "stream",
     "text": [
      "190\n"
     ]
    },
    {
     "data": {
      "text/plain": [
       "'\\nexpected_output = 190\\n'"
      ]
     },
     "execution_count": 19,
     "metadata": {},
     "output_type": "execute_result"
    }
   ],
   "source": [
    "#e.g.\n",
    "# DO NOT CHANGE THIS CELL\n",
    "Matrix = np.array([[ 5, 7,-2, 1],\n",
    "                   [-1, 5,-3, 0],\n",
    "                   [ 3,11,-2,-9],\n",
    "                   [ 8, 0, 4,-1]])\n",
    "print(det_recursive(Matrix))\n",
    "\"\"\"\n",
    "expected_output = 190\n",
    "\"\"\""
   ]
  },
  {
   "cell_type": "markdown",
   "metadata": {},
   "source": [
    "#### 3.1.1. Test your algorithm\n",
    "Measure the computation time of you recursive algorithm by testing it N*N matrixes, N= 2, 3, 4, 5, 6, 7"
   ]
  },
  {
   "cell_type": "code",
   "execution_count": null,
   "metadata": {
    "is_executing": true
   },
   "outputs": [
    {
     "name": "stdout",
     "output_type": "stream",
     "text": [
      "Time Elapsed for row echelon computation of determinant of M2: 0.0\n",
      "Time Elapsed for row echelon computation of determinant of M3: 0.0\n",
      "Time Elapsed for row echelon computation of determinant of M4: 0.0\n",
      "Time Elapsed for row echelon computation of determinant of M5: 0.0020003318786621094\n",
      "Time Elapsed for row echelon computation of determinant of M6: 0.0060198307037353516\n",
      "Time Elapsed for row echelon computation of determinant of M7: 0.03705024719238281\n"
     ]
    }
   ],
   "source": [
    "# Testing\n",
    "M2 = [[4,5],[2,3]]\n",
    "M3 = [[3,2,1],[2,2,2],[0,3,1]]\n",
    "M4 = np.random.rand(4,4)\n",
    "M5 = np.random.rand(5,5)\n",
    "M6 = np.random.rand(6,6)\n",
    "M7 = np.random.rand(7,7)\n",
    "\n",
    "# define the rest of the matrixes up to 7*7, you may use random number generators\n",
    "elapsed_time_recursive = []\n",
    "matrices = [M2, M3, M4, M5, M6, M7]\n",
    "matrix_sizes = [2, 3, 4, 5, 6, 7]\n",
    "\n",
    "for matrix, size in zip(matrices, matrix_sizes):\n",
    "\n",
    "    start_time = time.time()\n",
    "    det_recursive(matrix)\n",
    "    end_time = time.time()\n",
    "    elapsed_time_recursive.append(end_time - start_time)\n",
    "\n",
    "for i, size in enumerate(matrix_sizes):\n",
    "    print(f\"Time Elapsed for row echelon computation of determinant of M{i+2}: {elapsed_time_recursive[i]}\")\n",
    "    \n",
    "# Do the same for the rest of the matrices up to 7*7\n"
   ]
  },
  {
   "attachments": {},
   "cell_type": "markdown",
   "metadata": {},
   "source": [
    "### 3.2. Row Echelon\n",
    "Use the function defined in part 1 to find the row echelon form of the matrix and calculate the determinant\n",
    "\n",
    "#### ATTENTION: BEWARE OF THE IMPACT OF EACH OPERATION ON THE DETERMINANT!"
   ]
  },
  {
   "cell_type": "code",
   "execution_count": null,
   "metadata": {},
   "outputs": [
    {
     "name": "stdout",
     "output_type": "stream",
     "text": [
      "189.99999999999997\n"
     ]
    },
    {
     "data": {
      "text/plain": [
       "'\\nexpected_output = 190\\n'"
      ]
     },
     "execution_count": 21,
     "metadata": {},
     "output_type": "execute_result"
    }
   ],
   "source": [
    "def det_row_echelon(A):\n",
    "    #CHNAGE THIS PART\n",
    "    \"\"\" Find the determinant of the matrix A, make sure it is a square matrix and raise error otherwise \"\"\"\n",
    "    nrows = len(A)\n",
    "    ncols = len(A[0])\n",
    "    A = np.array(A)\n",
    "    tmp=1\n",
    "    cnt=0\n",
    "    if nrows != ncols :\n",
    "        return False\n",
    "    pivot_list , A , cnt= row_echelon(A)\n",
    "    for p in pivot_list :\n",
    "        tmp *= A[p[0],p[1]] \n",
    "    return tmp*((-1)**cnt)\n",
    "\n",
    "    \n",
    "Matrix = np.array([[ 5, 7,-2, 1],\n",
    "                   [-1, 5,-3, 0],\n",
    "                   [ 3,11,-2,-9],\n",
    "                   [ 8, 0, 4,-1]])\n",
    "print(det_row_echelon(Matrix))\n",
    "\"\"\"\n",
    "expected_output = 190\n",
    "\"\"\"    \n",
    "    "
   ]
  },
  {
   "attachments": {},
   "cell_type": "markdown",
   "metadata": {},
   "source": [
    "#### 3.2.1 Test your algorithm\n",
    "Measure the computation time of you recursive algorithm by testing it on the matrixes defined in the previous section."
   ]
  },
  {
   "cell_type": "code",
   "execution_count": null,
   "metadata": {},
   "outputs": [
    {
     "name": "stdout",
     "output_type": "stream",
     "text": [
      "Time Elapsed for row echelon computation of determinant of M2: 0.0\n",
      "Time Elapsed for row echelon computation of determinant of M3: 0.0\n",
      "Time Elapsed for row echelon computation of determinant of M4: 0.0009779930114746094\n",
      "Time Elapsed for row echelon computation of determinant of M5: 0.0\n",
      "Time Elapsed for row echelon computation of determinant of M6: 0.0\n",
      "Time Elapsed for row echelon computation of determinant of M7: 0.0\n"
     ]
    }
   ],
   "source": [
    "\n",
    "elapsed_time_rowechelon = []\n",
    "\n",
    "for matrix, size in zip(matrices, matrix_sizes):\n",
    "    \n",
    "    start_time = time.time()\n",
    "    det_row_echelon(matrix)\n",
    "    end_time = time.time()\n",
    "    elapsed_time_rowechelon.append(end_time - start_time)\n",
    "\n",
    "for i, size in enumerate(matrix_sizes):\n",
    "    print(f\"Time Elapsed for row echelon computation of determinant of M{i+2}: {elapsed_time_rowechelon[i]}\")\n",
    "    "
   ]
  },
  {
   "attachments": {},
   "cell_type": "markdown",
   "metadata": {},
   "source": [
    "### 3.3. Compare the computation time of the two proposed methods\n",
    "Try to plot the computation time versus matrix size for both methods using matplotlib functions."
   ]
  },
  {
   "cell_type": "code",
   "execution_count": null,
   "metadata": {},
   "outputs": [
    {
     "data": {
      "image/png": "[encoded data removed]",
      "text/plain": [
       "<Figure size 640x480 with 1 Axes>"
      ]
     },
     "metadata": {},
     "output_type": "display_data"
    }
   ],
   "source": [
    "# Plot the recorded data\n",
    "\"\"\"as you can see the row_echelon algorithm has higher performance for computing determinants of larger matrices.\"\"\"\n",
    "\n",
    "\n",
    "# generate a random matrix of given size\n",
    "def generate_random_matrix(size):\n",
    "    return np.random.randint(1, 10, size=(size, size))\n",
    "\n",
    "def measure_time_recursive(size):\n",
    "    matrix = generate_random_matrix(size)\n",
    "    start_time = time.time()\n",
    "    det_recursive(matrix)\n",
    "    end_time = time.time()\n",
    "    return end_time - start_time\n",
    "\n",
    "def measure_time_echelon(size):\n",
    "    matrix = generate_random_matrix(size)\n",
    "    start_time = time.time()\n",
    "    det_row_echelon(matrix)\n",
    "    end_time = time.time()\n",
    "    return end_time - start_time\n",
    "\n",
    "matrix_sizes = [2,3,4,5,6,10]\n",
    "\n",
    "recursive_times = []\n",
    "row_echelon_times = []\n",
    "for size in matrix_sizes:\n",
    "    recursive_time = measure_time_recursive(size)\n",
    "    row_echelon_time = measure_time_echelon(size)\n",
    "    recursive_times.append(recursive_time)\n",
    "    row_echelon_times.append(row_echelon_time)\n",
    "\n",
    "# Plot computation time versus matrix size\n",
    "plt.plot(matrix_sizes, recursive_times, label='Recursive Method')\n",
    "plt.plot(matrix_sizes, row_echelon_times, label='Row Echelon Method')\n",
    "plt.xlabel('Matrix Size')\n",
    "plt.ylabel('Computation Time (s)')\n",
    "plt.title('Computation Time vs. Matrix Size')\n",
    "plt.legend()\n",
    "plt.grid(True)\n",
    "plt.show()\n"
   ]
  }
 ],
 "metadata": {
  "kernelspec": {
   "display_name": "Python 3",
   "language": "python",
   "name": "python3"
  },
  "language_info": {
   "codemirror_mode": {
    "name": "ipython",
    "version": 3
   },
   "file_extension": ".py",
   "mimetype": "text/x-python",
   "name": "python",
   "nbconvert_exporter": "python",
   "pygments_lexer": "ipython3",
   "version": "3.12.2"
  },
  "orig_nbformat": 4
 },
 "nbformat": 4,
 "nbformat_minor": 2
}
